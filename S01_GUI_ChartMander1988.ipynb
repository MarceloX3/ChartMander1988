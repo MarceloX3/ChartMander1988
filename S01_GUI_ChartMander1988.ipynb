{
 "cells": [
  {
   "cell_type": "code",
   "execution_count": 1,
   "id": "22acd400-4636-48ae-ba3c-13f3ed851c57",
   "metadata": {
    "jupyter": {
     "source_hidden": true
    }
   },
   "outputs": [
    {
     "data": {
      "application/vnd.jupyter.widget-view+json": {
       "model_id": "ba4c6b55aa9d4808bbd1ecb483413378",
       "version_major": 2,
       "version_minor": 0
      },
      "text/plain": [
       "VBox(children=(HBox(children=(VBox(children=(HTML(value=\"<b style='text-align: center; display: block;'>f<sub>…"
      ]
     },
     "metadata": {},
     "output_type": "display_data"
    }
   ],
   "source": [
    "### Note: Close Jupyter Notebook using: File >> Shut Down.\n",
    "%run S01_GUI03_A01_ChartMander1988.py"
   ]
  },
  {
   "cell_type": "code",
   "execution_count": null,
   "id": "55be8c07-c8fd-4dab-b324-e4f171fd9f5e",
   "metadata": {},
   "outputs": [],
   "source": []
  }
 ],
 "metadata": {
  "kernelspec": {
   "display_name": "Python 3 (ipykernel)",
   "language": "python",
   "name": "python3"
  },
  "language_info": {
   "codemirror_mode": {
    "name": "ipython",
    "version": 3
   },
   "file_extension": ".py",
   "mimetype": "text/x-python",
   "name": "python",
   "nbconvert_exporter": "python",
   "pygments_lexer": "ipython3",
   "version": "3.11.7"
  }
 },
 "nbformat": 4,
 "nbformat_minor": 5
}
