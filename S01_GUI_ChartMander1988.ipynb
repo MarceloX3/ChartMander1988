{
 "cells": [
  {
   "cell_type": "code",
   "execution_count": null,
   "id": "6b66d2ee-c106-4d40-bfc1-5d2e9a2c64a2",
   "metadata": {},
   "outputs": [
    {
     "data": {
      "application/vnd.jupyter.widget-view+json": {
       "model_id": "27ebd773fa434babb3a9b15986cab647",
       "version_major": 2,
       "version_minor": 0
      },
      "text/plain": [
       "VBox(children=(HBox(children=(VBox(children=(HBox(children=(HTML(value='<b>Fiber Section - Openseespy</b>', la…"
      ]
     },
     "metadata": {},
     "output_type": "display_data"
    }
   ],
   "source": [
    "# Note: Close Jupyter Notebook using: File >> Shut Down.\n",
    "%run S01_GUI03_A01_ChartMander1988.py"
   ]
  }
 ],
 "metadata": {
  "kernelspec": {
   "display_name": "Python 3 (ipykernel)",
   "language": "python",
   "name": "python3"
  },
  "language_info": {
   "codemirror_mode": {
    "name": "ipython",
    "version": 3
   },
   "file_extension": ".py",
   "mimetype": "text/x-python",
   "name": "python",
   "nbconvert_exporter": "python",
   "pygments_lexer": "ipython3",
   "version": "3.11.7"
  }
 },
 "nbformat": 4,
 "nbformat_minor": 5
}
