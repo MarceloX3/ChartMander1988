{
 "cells": [
  {
   "cell_type": "code",
   "execution_count": 1,
   "id": "22acd400-4636-48ae-ba3c-13f3ed851c57",
   "metadata": {},
   "outputs": [
    {
     "data": {
      "application/vnd.jupyter.widget-view+json": {
       "model_id": "5211719681fa407798772ae1036002ae",
       "version_major": 2,
       "version_minor": 0
      },
      "text/plain": [
       "VBox(children=(HBox(children=(VBox(children=(HTML(value=\"<b style='text-align: center; display: block;'>f<sub>…"
      ]
     },
     "metadata": {},
     "output_type": "display_data"
    }
   ],
   "source": [
    "### Note: Close Jupyter Notebook using: File >> Shut Down.\n",
    "%run S01_GUI03_A01_ChartMander1988.py"
   ]
  },
  {
   "cell_type": "code",
   "execution_count": null,
   "id": "7dbfb7ef-1834-4b87-b1d6-7a177befe108",
   "metadata": {},
   "outputs": [],
   "source": []
  }
 ],
 "metadata": {
  "kernelspec": {
   "display_name": "Python 3 (ipykernel)",
   "language": "python",
   "name": "python3"
  },
  "language_info": {
   "codemirror_mode": {
    "name": "ipython",
    "version": 3
   },
   "file_extension": ".py",
   "mimetype": "text/x-python",
   "name": "python",
   "nbconvert_exporter": "python",
   "pygments_lexer": "ipython3",
   "version": "3.11.7"
  }
 },
 "nbformat": 4,
 "nbformat_minor": 5
}
